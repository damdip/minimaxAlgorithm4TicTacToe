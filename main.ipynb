{
 "cells": [
  {
   "cell_type": "markdown",
   "metadata": {},
   "source": [
    "# Classe per la tabella del tic tac toe"
   ]
  },
  {
   "cell_type": "code",
   "execution_count": 47,
   "metadata": {},
   "outputs": [],
   "source": [
    "import numpy as np\n",
    "\n",
    "\n",
    "\n",
    "\n",
    "class trisTable:\n",
    "\n",
    "\n",
    "    def __init__(self):\n",
    "        self.table =  np.array([[\"\",\"\",\"\",], [\"\",\"\",\"\"],[\"\",\"\",\"\"]])\n",
    "    \n",
    "\n",
    "    \n",
    "\n",
    "    def isTerminalState(self):\n",
    "\n",
    "        if( self.checkRighe(self.table , \"X\") \n",
    "            or self.checkRighe(self.table.T , \"X\") \n",
    "                or self.checkRighe(self.table, \"O\") \n",
    "                    or self.checkRighe(self.table.T, \"O\")  ):\n",
    "            return 1 \n",
    "        else:\n",
    "            return 0\n",
    "        \n",
    "        ##\n",
    "        ##if (self.checkRighe(self.table , \"X\") or self.checkRighe(self.table.T , \"X\") ):\n",
    "        ##    print(\"Player x won\")\n",
    "        ##    return 1\n",
    "        ##elif(self.checkRighe(self.table, \"O\") or self.checkRighe(self.table.T, \"O\") ):\n",
    "        ##    print(\"Player O won\")\n",
    "        ##    return -1\n",
    "        ##else: return 0\n",
    "\n",
    "\n",
    "    def checkRighe( self, tabella , carattere):\n",
    "        if (tabella[0][0] == carattere and tabella[0][1] == carattere and tabella[0][2] == carattere\n",
    "            or tabella[1][0] == carattere and tabella[1][1] == carattere and tabella[1][2] == carattere\n",
    "                or tabella[2][0] == carattere and tabella[2][1] == carattere and tabella[2][2] == carattere\n",
    "                    or tabella[0][0]== carattere and tabella[1][1]== carattere and tabella[2][2]== carattere ):\n",
    "              return 1\n",
    "        else: \n",
    "            return 0\n",
    "          \n",
    "    def getTerminalValue(self):\n",
    "        if (self.checkRighe(self.table , \"X\") \n",
    "            or self.checkRighe(self.table.T , \"X\") ):\n",
    "            return 1\n",
    "        elif( self.checkRighe(self.table, \"O\") \n",
    "                    or self.checkRighe(self.table.T, \"O\") ):\n",
    "            return -1\n",
    "        else:\n",
    "            return 0\n",
    "\n",
    "\n",
    "    def setMove( self, riga , colonna, giocatore):\n",
    "        if ( self.table[riga][colonna]== \"\"):\n",
    "            self.table[riga][colonna] = giocatore\n",
    "        else:\n",
    "            print(\"Posto occupato\")\n",
    "    \n",
    "    def getFreeSpots(self):\n",
    "        freeSpot = []\n",
    "        num_righe, num_colonne = self.table.shape\n",
    "        for i in range(num_righe):\n",
    "            for j in range(num_colonne):\n",
    "                if(self.table[i][j] == \"\"):\n",
    "                    freeSpot.append((i,j))\n",
    "        return freeSpot\n",
    "\n",
    "    def print(self):\n",
    "        print(self.table)\n",
    "\n",
    "    def getCopy(self):\n",
    "        new_Tris = trisTable()\n",
    "        num_righe, num_colonne = self.table.shape\n",
    "        for i in range(num_righe):\n",
    "            for j in range(num_colonne):\n",
    "                new_Tris.table[i][j] = self.table[i][j]\n",
    "        \n",
    "        return new_Tris\n",
    "        "
   ]
  },
  {
   "cell_type": "markdown",
   "metadata": {},
   "source": [
    "Alcuni test"
   ]
  },
  {
   "cell_type": "code",
   "execution_count": 48,
   "metadata": {},
   "outputs": [
    {
     "name": "stdout",
     "output_type": "stream",
     "text": [
      "[['' 'X' '']\n",
      " ['' 'X' '']\n",
      " ['' 'X' '']]\n",
      "[['' 'X' '']\n",
      " ['' 'X' '']\n",
      " ['' 'X' '']]\n"
     ]
    }
   ],
   "source": [
    "tris = trisTable()\n",
    "\n",
    "tris.setMove( 0 , 1, \"X\")\n",
    "\n",
    "tris.setMove( 1 , 1, \"X\")\n",
    "\n",
    "tris.setMove( 2 , 1, \"X\")\n",
    "\n",
    "\n",
    "new_tris = tris.getCopy()\n",
    "\n",
    "tris.print()\n",
    "new_tris.print()\n",
    "\n",
    "\n",
    "\n"
   ]
  },
  {
   "cell_type": "markdown",
   "metadata": {},
   "source": [
    "# Algoritmo minimax"
   ]
  },
  {
   "cell_type": "code",
   "execution_count": 56,
   "metadata": {},
   "outputs": [],
   "source": [
    "def miniMax(trisTable, player):\n",
    "    for move in trisTable.getFreeSpots():\n",
    "        #minimaxValue(player, trisTable.getCopy() , move )\n",
    "        trisTable.setMove(move[0],move[1],player)\n",
    "        trisTable.print()\n",
    "        "
   ]
  },
  {
   "cell_type": "code",
   "execution_count": 57,
   "metadata": {},
   "outputs": [],
   "source": [
    "def minimaxValue( player , table, move):\n",
    "    table.setMove(move[0],move[1],player)\n",
    "    table.print()\n",
    "\n",
    "            "
   ]
  },
  {
   "cell_type": "code",
   "execution_count": 58,
   "metadata": {},
   "outputs": [
    {
     "name": "stdout",
     "output_type": "stream",
     "text": [
      "[['X' '' '']\n",
      " ['' '' '']\n",
      " ['' '' '']]\n",
      "[['X' 'X' '']\n",
      " ['' '' '']\n",
      " ['' '' '']]\n",
      "[['X' 'X' 'X']\n",
      " ['' '' '']\n",
      " ['' '' '']]\n",
      "[['X' 'X' 'X']\n",
      " ['X' '' '']\n",
      " ['' '' '']]\n",
      "[['X' 'X' 'X']\n",
      " ['X' 'X' '']\n",
      " ['' '' '']]\n",
      "[['X' 'X' 'X']\n",
      " ['X' 'X' 'X']\n",
      " ['' '' '']]\n",
      "[['X' 'X' 'X']\n",
      " ['X' 'X' 'X']\n",
      " ['X' '' '']]\n",
      "[['X' 'X' 'X']\n",
      " ['X' 'X' 'X']\n",
      " ['X' 'X' '']]\n",
      "[['X' 'X' 'X']\n",
      " ['X' 'X' 'X']\n",
      " ['X' 'X' 'X']]\n"
     ]
    }
   ],
   "source": [
    "tris = trisTable()\n",
    "miniMax(tris , \"X\")\n"
   ]
  }
 ],
 "metadata": {
  "kernelspec": {
   "display_name": "minimaxEnv",
   "language": "python",
   "name": "python3"
  },
  "language_info": {
   "codemirror_mode": {
    "name": "ipython",
    "version": 3
   },
   "file_extension": ".py",
   "mimetype": "text/x-python",
   "name": "python",
   "nbconvert_exporter": "python",
   "pygments_lexer": "ipython3",
   "version": "3.12.7"
  }
 },
 "nbformat": 4,
 "nbformat_minor": 2
}
